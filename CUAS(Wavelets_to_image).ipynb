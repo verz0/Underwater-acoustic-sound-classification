{
  "nbformat": 4,
  "nbformat_minor": 0,
  "metadata": {
    "colab": {
      "provenance": []
    },
    "kernelspec": {
      "name": "python3",
      "display_name": "Python 3"
    },
    "language_info": {
      "name": "python"
    }
  },
  "cells": [
    {
      "cell_type": "code",
      "execution_count": 1,
      "metadata": {
        "colab": {
          "base_uri": "https://localhost:8080/"
        },
        "id": "fehFuryZQU4_",
        "outputId": "94870ad6-7e63-40c3-8ffe-58ec18c750c7"
      },
      "outputs": [
        {
          "output_type": "stream",
          "name": "stdout",
          "text": [
            "Mounted at /content/drive\n",
            "/content/drive/MyDrive/Passengership\n"
          ]
        }
      ],
      "source": [
        "from google.colab import drive\n",
        "drive.mount('/content/drive')\n",
        "%cd drive/MyDrive/Passengership\n"
      ]
    },
    {
      "cell_type": "code",
      "source": [
        "%cd .."
      ],
      "metadata": {
        "colab": {
          "base_uri": "https://localhost:8080/"
        },
        "id": "G87bMqb0Qzvb",
        "outputId": "97b48953-ad7c-4752-e636-991930d82127"
      },
      "execution_count": 3,
      "outputs": [
        {
          "output_type": "stream",
          "name": "stdout",
          "text": [
            "/content/drive/MyDrive\n"
          ]
        }
      ]
    },
    {
      "cell_type": "code",
      "source": [
        "import os\n",
        "import numpy as np\n",
        "import librosa\n",
        "import pywt\n",
        "import matplotlib.pyplot as plt\n",
        "\n",
        "def extract_wavelet(file_path, wavelet='db1', level=5):\n",
        "    # Load audio file\n",
        "    y, sr = librosa.load(file_path, sr=16000)\n",
        "\n",
        "    # Perform Discrete Wavelet Transform (DWT)\n",
        "    coeffs = pywt.wavedec(y, wavelet, level=level)\n",
        "\n",
        "    # Create an array to hold the coefficients for visualization\n",
        "    coeff_arr, coeff_slices = pywt.coeffs_to_array(coeffs)\n",
        "\n",
        "    return coeff_arr, coeff_slices\n",
        "\n",
        "def save_wavelet_as_image(wavelet_coeffs, output_path):\n",
        "    # Plot the wavelet coefficients\n",
        "    plt.figure(figsize=(10, 4))\n",
        "    plt.imshow(wavelet_coeffs, aspect='auto', origin='lower', cmap='viridis')\n",
        "    plt.colorbar(format='%+2.0f dB')\n",
        "    plt.title('Wavelet Coefficients')\n",
        "    plt.xlabel('Time Frames')\n",
        "    plt.ylabel('Wavelet Coefficients')\n",
        "    plt.tight_layout()\n",
        "\n",
        "    # Save the plot as an image\n",
        "    plt.savefig(output_path, format='png')\n",
        "    plt.close()\n",
        "\n",
        "def process_audio_files(input_folder, output_folder, wavelet='db1', level=5):\n",
        "    if not os.path.exists(output_folder):\n",
        "        os.makedirs(output_folder)\n",
        "\n",
        "    for file_name in os.listdir(input_folder):\n",
        "        if file_name.endswith('.wav'):\n",
        "            file_path = os.path.join(input_folder, file_name)\n",
        "            wavelet_coeffs, coeff_slices = extract_wavelet(file_path, wavelet, level)\n",
        "\n",
        "            # Ensure the wavelet coefficients are 2D\n",
        "            if wavelet_coeffs.ndim == 1:\n",
        "                wavelet_coeffs = wavelet_coeffs[:, np.newaxis]\n",
        "\n",
        "            output_path = os.path.join(output_folder, file_name.replace('.wav', '.png'))\n",
        "            save_wavelet_as_image(wavelet_coeffs, output_path)\n",
        "            print(f'Processed {file_name}')\n",
        "\n",
        "\n",
        "# Define input and output folders\n",
        "input_folder = 'Passengership'\n",
        "output_folder = 'Wavelet'\n",
        "\n",
        "# Process audio files\n",
        "process_audio_files(input_folder, output_folder)\n"
      ],
      "metadata": {
        "colab": {
          "base_uri": "https://localhost:8080/"
        },
        "id": "yPNIn0FAQVjc",
        "outputId": "cdf700a8-1dfa-45eb-d4c1-a89ec8a0ccb3"
      },
      "execution_count": 5,
      "outputs": [
        {
          "output_type": "stream",
          "name": "stdout",
          "text": [
            "Processed 17.wav\n",
            "Processed 16.wav\n",
            "Processed 14.wav\n",
            "Processed 12.wav\n",
            "Processed 32.wav\n",
            "Processed 27.wav\n",
            "Processed 33.wav\n",
            "Processed 6.wav\n",
            "Processed 30.wav\n",
            "Processed 50.wav\n",
            "Processed 31.wav\n",
            "Processed 4.wav\n",
            "Processed 41.wav\n",
            "Processed 5.wav\n",
            "Processed 29.wav\n",
            "Processed 37.wav\n",
            "Processed 8.wav\n",
            "Processed 9.wav\n",
            "Processed 23.wav\n"
          ]
        }
      ]
    }
  ]
}