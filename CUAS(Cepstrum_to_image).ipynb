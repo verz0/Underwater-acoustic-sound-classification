{
  "nbformat": 4,
  "nbformat_minor": 0,
  "metadata": {
    "colab": {
      "provenance": []
    },
    "kernelspec": {
      "name": "python3",
      "display_name": "Python 3"
    },
    "language_info": {
      "name": "python"
    }
  },
  "cells": [
    {
      "cell_type": "code",
      "source": [
        "from google.colab import drive\n",
        "drive.mount('/content/drive')\n",
        "%cd drive/MyDrive/Passengership\n"
      ],
      "metadata": {
        "colab": {
          "base_uri": "https://localhost:8080/"
        },
        "id": "31-9PKBUgkMb",
        "outputId": "19c167a6-ab4c-4d4f-df0e-3cf63ef3fec0"
      },
      "execution_count": null,
      "outputs": [
        {
          "output_type": "stream",
          "name": "stdout",
          "text": [
            "Mounted at /content/drive\n",
            "[Errno 2] No such file or directory: 'drive/MyDrive/Passengership'\n",
            "/root\n"
          ]
        }
      ]
    },
    {
      "cell_type": "code",
      "source": [
        "%cd .."
      ],
      "metadata": {
        "colab": {
          "base_uri": "https://localhost:8080/"
        },
        "id": "okc3HdfvhXZh",
        "outputId": "44f12239-ae3b-42ff-aa84-116292728f93"
      },
      "execution_count": null,
      "outputs": [
        {
          "output_type": "stream",
          "name": "stdout",
          "text": [
            "/content/drive/MyDrive\n"
          ]
        }
      ]
    },
    {
      "cell_type": "code",
      "execution_count": null,
      "metadata": {
        "colab": {
          "base_uri": "https://localhost:8080/"
        },
        "id": "6sLfRErbgdhw",
        "outputId": "76459c1b-3a8b-41b2-e782-9241a30443ea"
      },
      "outputs": [
        {
          "output_type": "stream",
          "name": "stdout",
          "text": [
            "Processed 17.wav\n",
            "Processed 16.wav\n",
            "Processed 14.wav\n",
            "Processed 12.wav\n",
            "Processed 32.wav\n",
            "Processed 27.wav\n",
            "Processed 33.wav\n",
            "Processed 6.wav\n",
            "Processed 30.wav\n",
            "Processed 50.wav\n",
            "Processed 31.wav\n",
            "Processed 4.wav\n",
            "Processed 41.wav\n",
            "Processed 5.wav\n",
            "Processed 29.wav\n",
            "Processed 37.wav\n",
            "Processed 8.wav\n",
            "Processed 9.wav\n",
            "Processed 23.wav\n"
          ]
        }
      ],
      "source": [
        "import os\n",
        "import numpy as np\n",
        "import scipy.io.wavfile as wav\n",
        "import librosa\n",
        "import matplotlib.pyplot as plt\n",
        "\n",
        "def extract_cepstrum(file_path):\n",
        "    # Load audio file\n",
        "    y, sr = librosa.load(file_path, sr=16000)\n",
        "\n",
        "    # Compute the Short-Time Fourier Transform (STFT)\n",
        "    S = np.abs(librosa.stft(y))\n",
        "\n",
        "    # Compute the power spectrum\n",
        "    power_spectrum = S**2\n",
        "\n",
        "    # Compute the log power spectrum\n",
        "    log_power_spectrum = np.log(power_spectrum + np.finfo(float).eps)\n",
        "\n",
        "    # Compute the inverse Fourier transform of the log power spectrum (Cepstrum)\n",
        "    cepstrum = np.fft.ifft(log_power_spectrum, axis=0).real\n",
        "\n",
        "    return cepstrum\n",
        "\n",
        "def save_cepstrum_as_image(cepstrum, output_path):\n",
        "    # Plot the cepstrum\n",
        "    plt.figure(figsize=(10, 4))\n",
        "    plt.imshow(cepstrum, aspect='auto', origin='lower')\n",
        "    plt.colorbar()\n",
        "    plt.title('Cepstrum')\n",
        "    plt.tight_layout()\n",
        "\n",
        "    # Save the plot as an image\n",
        "    plt.savefig(output_path, format='png')\n",
        "    plt.close()\n",
        "\n",
        "def process_audio_files(input_folder, output_folder):\n",
        "    if not os.path.exists(output_folder):\n",
        "        os.makedirs(output_folder)\n",
        "\n",
        "    for file_name in os.listdir(input_folder):\n",
        "        if file_name.endswith('.wav'):\n",
        "            file_path = os.path.join(input_folder, file_name)\n",
        "            cepstrum = extract_cepstrum(file_path)\n",
        "            output_path = os.path.join(output_folder, file_name.replace('.wav', '.png'))\n",
        "            save_cepstrum_as_image(cepstrum, output_path)\n",
        "            print(f'Processed {file_name}')\n",
        "\n",
        "# Define input and output folders\n",
        "input_folder = 'Passengership'\n",
        "output_folder = 'Cepstrum'\n",
        "\n",
        "# Process audio files\n",
        "process_audio_files(input_folder, output_folder)\n"
      ]
    },
    {
      "cell_type": "code",
      "source": [
        "# Save cepstrum as .npy\n",
        "\n",
        "# import os\n",
        "# import numpy as np\n",
        "# import scipy.io.wavfile as wav\n",
        "# from scipy.fftpack import dct\n",
        "# import librosa\n",
        "# import matplotlib.pyplot as plt\n",
        "\n",
        "# def extract_cepstrum(file_path):\n",
        "#     # Load audio file\n",
        "#     y, sr = librosa.load(file_path, sr=16000)\n",
        "\n",
        "#     # Compute the Short-Time Fourier Transform (STFT)\n",
        "#     S = np.abs(librosa.stft(y))\n",
        "\n",
        "#     # Compute the power spectrum\n",
        "#     power_spectrum = S**2\n",
        "\n",
        "#     # Compute the log power spectrum\n",
        "#     log_power_spectrum = np.log(power_spectrum + np.finfo(float).eps)\n",
        "\n",
        "#     # Compute the inverse Fourier transform of the log power spectrum (Cepstrum)\n",
        "#     cepstrum = np.fft.ifft(log_power_spectrum, axis=0).real\n",
        "\n",
        "#     return cepstrum\n",
        "\n",
        "# def save_cepstrum(cepstrum, output_path):\n",
        "#     np.save(output_path, cepstrum)\n",
        "\n",
        "# def process_audio_files(input_folder, output_folder):\n",
        "#     if not os.path.exists(output_folder):\n",
        "#         os.makedirs(output_folder)\n",
        "\n",
        "#     for file_name in os.listdir(input_folder):\n",
        "#         if file_name.endswith('.wav'):\n",
        "#             file_path = os.path.join(input_folder, file_name)\n",
        "#             cepstrum = extract_cepstrum(file_path)\n",
        "\n",
        "#             output_path = os.path.join(output_folder, file_name.replace('.wav', '.npy'))\n",
        "#             save_cepstrum(cepstrum, output_path)\n",
        "#             print(f'Processed {file_name}')\n",
        "\n",
        "# # Define input and output folders\n",
        "# input_folder = 'Passengership'\n",
        "# output_folder = 'Output2'\n",
        "\n",
        "# # Process audio files\n",
        "# process_audio_files(input_folder, output_folder)\n"
      ],
      "metadata": {
        "colab": {
          "base_uri": "https://localhost:8080/"
        },
        "id": "lhHsgO-yjaop",
        "outputId": "9bcd1a2e-cb7f-451b-cc47-460d4bcb297d"
      },
      "execution_count": null,
      "outputs": [
        {
          "output_type": "stream",
          "name": "stdout",
          "text": [
            "Processed 17.wav\n",
            "Processed 16.wav\n",
            "Processed 14.wav\n",
            "Processed 12.wav\n",
            "Processed 32.wav\n",
            "Processed 27.wav\n",
            "Processed 33.wav\n",
            "Processed 6.wav\n",
            "Processed 30.wav\n",
            "Processed 50.wav\n",
            "Processed 31.wav\n",
            "Processed 4.wav\n",
            "Processed 41.wav\n",
            "Processed 5.wav\n",
            "Processed 29.wav\n",
            "Processed 37.wav\n",
            "Processed 8.wav\n",
            "Processed 9.wav\n",
            "Processed 23.wav\n"
          ]
        }
      ]
    }
  ]
}